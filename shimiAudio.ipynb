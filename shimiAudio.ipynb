{
 "cells": [
  {
   "cell_type": "code",
   "execution_count": 15,
   "metadata": {},
   "outputs": [],
   "source": [
    "from textAnalysis import *\n",
    "from shimiEmotionalResponse import *"
   ]
  },
  {
   "cell_type": "markdown",
   "metadata": {},
   "source": [
    "Text Analysis\n",
    "\n",
    "#greetings from text analysis\n",
    "#farewell from text analysis\n"
   ]
  },
  {
   "cell_type": "code",
   "execution_count": null,
   "metadata": {},
   "outputs": [
    {
     "name": "stdout",
     "output_type": "stream",
     "text": [
      "0.30575\n"
     ]
    }
   ],
   "source": [
    "inputText = \"everything is great\"\n",
    "\n",
    "#shimi's Emotion\n",
    "valence = 0.5\n",
    "valence = shimiEmotion('very happy',valence)\n",
    "\n",
    "#Shimi Response - give back phrase length and classification\n",
    "\n",
    "print (valence)"
   ]
  },
  {
   "cell_type": "code",
   "execution_count": 52,
   "metadata": {},
   "outputs": [],
   "source": []
  },
  {
   "cell_type": "code",
   "execution_count": null,
   "metadata": {},
   "outputs": [],
   "source": []
  },
  {
   "cell_type": "code",
   "execution_count": 17,
   "metadata": {},
   "outputs": [],
   "source": [
    "#HOW SHOULD SHIMI RESPOND\n",
    "#recognise greeting or farewell #otherwise look at statement type\n",
    "\n",
    "#syllables for length\n",
    "\n",
    "#valence for emotion\n",
    "\n",
    "#this should become part of shimi emotional response.\n",
    "\n",
    "#for tomorrow valence and arousal 4 quadrants \n",
    "\n",
    "def shimiResponse(inputText):\n",
    "    phraseLength = numberSyllables(inputText)\n",
    "    \n",
    "    textClassifier(inputText)\n",
    "\n",
    "\n",
    "\n",
    "    return phraseLength, classification,\n"
   ]
  },
  {
   "cell_type": "code",
   "execution_count": null,
   "metadata": {},
   "outputs": [],
   "source": [
    "#generate midi response based on desired respose\n",
    "#in here you will get what is given..\n",
    "\n",
    "#either, greeting/fareweel\n",
    "\n",
    "\n",
    "#save and give to Ryan\n"
   ]
  },
  {
   "cell_type": "code",
   "execution_count": null,
   "metadata": {},
   "outputs": [],
   "source": [
    "#synthesize\n",
    "\n"
   ]
  },
  {
   "cell_type": "code",
   "execution_count": null,
   "metadata": {},
   "outputs": [],
   "source": []
  },
  {
   "cell_type": "code",
   "execution_count": null,
   "metadata": {},
   "outputs": [],
   "source": []
  },
  {
   "cell_type": "code",
   "execution_count": 13,
   "metadata": {},
   "outputs": [],
   "source": [
    "intensity = snd.to_intensity()\n",
    "spectrogram = snd.to_spectrogram()\n",
    "pitch = snd.to_pitch()"
   ]
  },
  {
   "cell_type": "code",
   "execution_count": null,
   "metadata": {},
   "outputs": [],
   "source": []
  }
 ],
 "metadata": {
  "kernelspec": {
   "display_name": "Python [conda env:shimi]",
   "language": "python",
   "name": "conda-env-shimi-py"
  },
  "language_info": {
   "codemirror_mode": {
    "name": "ipython",
    "version": 3
   },
   "file_extension": ".py",
   "mimetype": "text/x-python",
   "name": "python",
   "nbconvert_exporter": "python",
   "pygments_lexer": "ipython3",
   "version": "3.6.6"
  }
 },
 "nbformat": 4,
 "nbformat_minor": 2
}
